{
 "cells": [
  {
   "cell_type": "code",
   "execution_count": 2,
   "id": "f57405d6-5a6c-4ee3-ad72-983ec7c067ad",
   "metadata": {
    "tags": []
   },
   "outputs": [
    {
     "name": "stderr",
     "output_type": "stream",
     "text": [
      "/Users/skacholia/opt/anaconda3/envs/rta/lib/python3.9/site-packages/tqdm/auto.py:21: TqdmWarning: IProgress not found. Please update jupyter and ipywidgets. See https://ipywidgets.readthedocs.io/en/stable/user_install.html\n",
      "  from .autonotebook import tqdm as notebook_tqdm\n"
     ]
    }
   ],
   "source": [
    "import pandas as pd\n",
    "import openai\n",
    "import os\n",
    "import time\n",
    "import re\n",
    "import csv\n",
    "import tiktoken\n",
    "import timeout_decorator\n",
    "import numpy as np\n",
    "import plotly.express as px\n",
    "import plotly.graph_objects as go\n",
    "import pickle\n",
    "import nltk\n",
    "import ast\n",
    "from openai import OpenAI\n",
    "from dotenv import load_dotenv\n",
    "from apify_client import ApifyClient\n",
    "from nltk.corpus import stopwords\n",
    "from collections import deque\n",
    "from urllib.parse import urlparse\n",
    "from sklearn.cluster import KMeans\n",
    "from sklearn.manifold import TSNE\n",
    "from sklearn.metrics.pairwise import cosine_similarity\n",
    "from keybert import KeyBERT\n",
    "import plotly.express as px\n",
    "import plotly.graph_objects as go"
   ]
  },
  {
   "cell_type": "code",
   "execution_count": 3,
   "id": "4070cad2-e820-48b3-a2e5-b3bf9f4164f3",
   "metadata": {
    "tags": []
   },
   "outputs": [],
   "source": [
    "load_dotenv()\n",
    "openai.api_key = os.getenv(\"OPENAI_KEY\")\n",
    "#openai.api_type = \"azure\"\n",
    "#openai.api_version = \"2023-07-01-preview\"\n",
    "#openai.api_base = os.getenv(\"AZURE_BASE\")\n",
    "#openai.api_key = os.getenv(\"AZURE_KEY\")\n",
    "client = OpenAI()\n",
    "optimal_k = 3 #NUMBER OF CLUSTERS"
   ]
  },
  {
   "cell_type": "code",
   "execution_count": 4,
   "id": "df5be069-67f7-401c-90b4-fbd4731a25d8",
   "metadata": {
    "tags": []
   },
   "outputs": [],
   "source": [
    "def get_embedding(text):\n",
    "    text = text.replace(\"\\n\", \" \")\n",
    "    response = client.embeddings.create(\n",
    "        input=text,\n",
    "        model=\"text-embedding-3-small\"\n",
    "    )\n",
    "    return response.data[0].embedding\n",
    "\n",
    "def search(df, text, n=3, pprint=True):\n",
    "    embedding = np.array(get_embedding(text)).reshape(1, -1)\n",
    "    df['similarity'] = df.embedding.apply(lambda x: cosine_similarity(np.array(x).reshape(1, -1), embedding))\n",
    "    res = df.sort_values('similarity', ascending=False).head(n)\n",
    "    return res\n",
    "\n",
    "def sim(text, target):\n",
    "    embedding = get_embedding(text)\n",
    "    return cosine_similarity(embedding, target)"
   ]
  },
  {
   "cell_type": "code",
   "execution_count": 8,
   "id": "2ec3db37-5301-436c-95ca-d3737e57f870",
   "metadata": {
    "tags": []
   },
   "outputs": [],
   "source": [
    "df = pd.read_csv('federalai.csv')"
   ]
  },
  {
   "cell_type": "code",
   "execution_count": 9,
   "id": "ea0649d2-ee98-40ee-ac36-ebe241567361",
   "metadata": {
    "tags": []
   },
   "outputs": [
    {
     "data": {
      "text/html": [
       "<div>\n",
       "<style scoped>\n",
       "    .dataframe tbody tr th:only-of-type {\n",
       "        vertical-align: middle;\n",
       "    }\n",
       "\n",
       "    .dataframe tbody tr th {\n",
       "        vertical-align: top;\n",
       "    }\n",
       "\n",
       "    .dataframe thead th {\n",
       "        text-align: right;\n",
       "    }\n",
       "</style>\n",
       "<table border=\"1\" class=\"dataframe\">\n",
       "  <thead>\n",
       "    <tr style=\"text-align: right;\">\n",
       "      <th></th>\n",
       "      <th>Use_Case_ID</th>\n",
       "      <th>Department_Code</th>\n",
       "      <th>Agency</th>\n",
       "      <th>Office</th>\n",
       "      <th>Title</th>\n",
       "      <th>Summary</th>\n",
       "      <th>Development_Stage</th>\n",
       "      <th>Techniques</th>\n",
       "      <th>Source_Code</th>\n",
       "      <th>Department</th>\n",
       "    </tr>\n",
       "  </thead>\n",
       "  <tbody>\n",
       "    <tr>\n",
       "      <th>0</th>\n",
       "      <td>DHS-0000-2023</td>\n",
       "      <td>DHS</td>\n",
       "      <td>Customs and Border Protection</td>\n",
       "      <td>NaN</td>\n",
       "      <td>AI Curated Synthetic Data</td>\n",
       "      <td>AI Curated Synthetic Data creates synthetic da...</td>\n",
       "      <td>Initiation</td>\n",
       "      <td>Synthetic Image Generation</td>\n",
       "      <td>NaN</td>\n",
       "      <td>Department of Homeland Security</td>\n",
       "    </tr>\n",
       "    <tr>\n",
       "      <th>1</th>\n",
       "      <td>DHS-0001-2023</td>\n",
       "      <td>DHS</td>\n",
       "      <td>Customs and Border Protection</td>\n",
       "      <td>NaN</td>\n",
       "      <td>AI for Autonomous Situational Awareness</td>\n",
       "      <td>The AI for autonomous situational awareness sy...</td>\n",
       "      <td>Development and Acquisition</td>\n",
       "      <td>Machine Vision</td>\n",
       "      <td>NaN</td>\n",
       "      <td>Department of Homeland Security</td>\n",
       "    </tr>\n",
       "    <tr>\n",
       "      <th>2</th>\n",
       "      <td>DHS-0002-2023</td>\n",
       "      <td>DHS</td>\n",
       "      <td>Customs and Border Protection</td>\n",
       "      <td>NaN</td>\n",
       "      <td>Automated Item of Interest Detection - ICAD</td>\n",
       "      <td>The software analyzes photographs that are tak...</td>\n",
       "      <td>Operation and Maintenance</td>\n",
       "      <td>Machine Learning</td>\n",
       "      <td>NaN</td>\n",
       "      <td>Department of Homeland Security</td>\n",
       "    </tr>\n",
       "    <tr>\n",
       "      <th>3</th>\n",
       "      <td>DHS-0003-2023</td>\n",
       "      <td>DHS</td>\n",
       "      <td>Customs and Border Protection</td>\n",
       "      <td>NaN</td>\n",
       "      <td>Autonomous Aerostat</td>\n",
       "      <td>Aerostat capability that uses three tethers in...</td>\n",
       "      <td>Development and Acquisition</td>\n",
       "      <td>Automation &amp; Robotics</td>\n",
       "      <td>NaN</td>\n",
       "      <td>Department of Homeland Security</td>\n",
       "    </tr>\n",
       "    <tr>\n",
       "      <th>4</th>\n",
       "      <td>DHS-0004-2023</td>\n",
       "      <td>DHS</td>\n",
       "      <td>Customs and Border Protection</td>\n",
       "      <td>NaN</td>\n",
       "      <td>Autonomous Maritime Awareness</td>\n",
       "      <td>The Autonomous Maritime Awareness system combi...</td>\n",
       "      <td>Development and Acquisition</td>\n",
       "      <td>Machine Learning Automation &amp; Robotics</td>\n",
       "      <td>NaN</td>\n",
       "      <td>Department of Homeland Security</td>\n",
       "    </tr>\n",
       "    <tr>\n",
       "      <th>...</th>\n",
       "      <td>...</td>\n",
       "      <td>...</td>\n",
       "      <td>...</td>\n",
       "      <td>...</td>\n",
       "      <td>...</td>\n",
       "      <td>...</td>\n",
       "      <td>...</td>\n",
       "      <td>...</td>\n",
       "      <td>...</td>\n",
       "      <td>...</td>\n",
       "    </tr>\n",
       "    <tr>\n",
       "      <th>705</th>\n",
       "      <td>VA-0035-2023</td>\n",
       "      <td>VA</td>\n",
       "      <td>NaN</td>\n",
       "      <td>NaN</td>\n",
       "      <td>Extraction of family medical history from pati...</td>\n",
       "      <td>This pilot project uses TIU documentation on A...</td>\n",
       "      <td>NaN</td>\n",
       "      <td>NaN</td>\n",
       "      <td>NaN</td>\n",
       "      <td>Department of Veterans Affairs</td>\n",
       "    </tr>\n",
       "    <tr>\n",
       "      <th>706</th>\n",
       "      <td>VA-0036-2023</td>\n",
       "      <td>VA</td>\n",
       "      <td>NaN</td>\n",
       "      <td>NaN</td>\n",
       "      <td>VA /IRB approved research study for finding co...</td>\n",
       "      <td>This IRB approved research study uses  a rando...</td>\n",
       "      <td>NaN</td>\n",
       "      <td>NaN</td>\n",
       "      <td>NaN</td>\n",
       "      <td>Department of Veterans Affairs</td>\n",
       "    </tr>\n",
       "    <tr>\n",
       "      <th>707</th>\n",
       "      <td>VA-0037-2023</td>\n",
       "      <td>VA</td>\n",
       "      <td>NaN</td>\n",
       "      <td>NaN</td>\n",
       "      <td>Interpretation/triage of eye images</td>\n",
       "      <td>Artificial intelligence supports triage of eye...</td>\n",
       "      <td>NaN</td>\n",
       "      <td>NaN</td>\n",
       "      <td>NaN</td>\n",
       "      <td>Department of Veterans Affairs</td>\n",
       "    </tr>\n",
       "    <tr>\n",
       "      <th>708</th>\n",
       "      <td>VA-0038-2023</td>\n",
       "      <td>VA</td>\n",
       "      <td>NaN</td>\n",
       "      <td>NaN</td>\n",
       "      <td>Screening for esophageal adenocarcinoma</td>\n",
       "      <td>National VHA administrative data is used to ad...</td>\n",
       "      <td>NaN</td>\n",
       "      <td>NaN</td>\n",
       "      <td>NaN</td>\n",
       "      <td>Department of Veterans Affairs</td>\n",
       "    </tr>\n",
       "    <tr>\n",
       "      <th>709</th>\n",
       "      <td>VA-0039-2023</td>\n",
       "      <td>VA</td>\n",
       "      <td>NaN</td>\n",
       "      <td>NaN</td>\n",
       "      <td>Social determinants of health extractor</td>\n",
       "      <td>AI is used with clinical notes to identify soc...</td>\n",
       "      <td>NaN</td>\n",
       "      <td>NaN</td>\n",
       "      <td>NaN</td>\n",
       "      <td>Department of Veterans Affairs</td>\n",
       "    </tr>\n",
       "  </tbody>\n",
       "</table>\n",
       "<p>710 rows × 10 columns</p>\n",
       "</div>"
      ],
      "text/plain": [
       "       Use_Case_ID Department_Code                         Agency Office  \\\n",
       "0    DHS-0000-2023             DHS  Customs and Border Protection    NaN   \n",
       "1    DHS-0001-2023             DHS  Customs and Border Protection    NaN   \n",
       "2    DHS-0002-2023             DHS  Customs and Border Protection    NaN   \n",
       "3    DHS-0003-2023             DHS  Customs and Border Protection    NaN   \n",
       "4    DHS-0004-2023             DHS  Customs and Border Protection    NaN   \n",
       "..             ...             ...                            ...    ...   \n",
       "705   VA-0035-2023              VA                            NaN    NaN   \n",
       "706   VA-0036-2023              VA                            NaN    NaN   \n",
       "707   VA-0037-2023              VA                            NaN    NaN   \n",
       "708   VA-0038-2023              VA                            NaN    NaN   \n",
       "709   VA-0039-2023              VA                            NaN    NaN   \n",
       "\n",
       "                                                 Title  \\\n",
       "0                            AI Curated Synthetic Data   \n",
       "1              AI for Autonomous Situational Awareness   \n",
       "2          Automated Item of Interest Detection - ICAD   \n",
       "3                                  Autonomous Aerostat   \n",
       "4                        Autonomous Maritime Awareness   \n",
       "..                                                 ...   \n",
       "705  Extraction of family medical history from pati...   \n",
       "706  VA /IRB approved research study for finding co...   \n",
       "707                Interpretation/triage of eye images   \n",
       "708            Screening for esophageal adenocarcinoma   \n",
       "709            Social determinants of health extractor   \n",
       "\n",
       "                                               Summary  \\\n",
       "0    AI Curated Synthetic Data creates synthetic da...   \n",
       "1    The AI for autonomous situational awareness sy...   \n",
       "2    The software analyzes photographs that are tak...   \n",
       "3    Aerostat capability that uses three tethers in...   \n",
       "4    The Autonomous Maritime Awareness system combi...   \n",
       "..                                                 ...   \n",
       "705  This pilot project uses TIU documentation on A...   \n",
       "706  This IRB approved research study uses  a rando...   \n",
       "707  Artificial intelligence supports triage of eye...   \n",
       "708  National VHA administrative data is used to ad...   \n",
       "709  AI is used with clinical notes to identify soc...   \n",
       "\n",
       "               Development_Stage                              Techniques  \\\n",
       "0                     Initiation              Synthetic Image Generation   \n",
       "1    Development and Acquisition                          Machine Vision   \n",
       "2      Operation and Maintenance                        Machine Learning   \n",
       "3    Development and Acquisition                   Automation & Robotics   \n",
       "4    Development and Acquisition  Machine Learning Automation & Robotics   \n",
       "..                           ...                                     ...   \n",
       "705                          NaN                                     NaN   \n",
       "706                          NaN                                     NaN   \n",
       "707                          NaN                                     NaN   \n",
       "708                          NaN                                     NaN   \n",
       "709                          NaN                                     NaN   \n",
       "\n",
       "    Source_Code                       Department  \n",
       "0           NaN  Department of Homeland Security  \n",
       "1           NaN  Department of Homeland Security  \n",
       "2           NaN  Department of Homeland Security  \n",
       "3           NaN  Department of Homeland Security  \n",
       "4           NaN  Department of Homeland Security  \n",
       "..          ...                              ...  \n",
       "705         NaN   Department of Veterans Affairs  \n",
       "706         NaN   Department of Veterans Affairs  \n",
       "707         NaN   Department of Veterans Affairs  \n",
       "708         NaN   Department of Veterans Affairs  \n",
       "709         NaN   Department of Veterans Affairs  \n",
       "\n",
       "[710 rows x 10 columns]"
      ]
     },
     "execution_count": 9,
     "metadata": {},
     "output_type": "execute_result"
    }
   ],
   "source": [
    "df"
   ]
  },
  {
   "cell_type": "code",
   "execution_count": 10,
   "id": "5d2b697a-5d62-4e62-9347-00214c6d6eb7",
   "metadata": {
    "tags": []
   },
   "outputs": [],
   "source": [
    "df['embedding'] = df.Summary.apply(lambda x: get_embedding(x)) #Replace text with column name of text"
   ]
  },
  {
   "cell_type": "code",
   "execution_count": 6,
   "id": "6f87da6e-5a05-4562-8b07-75bec079dd0c",
   "metadata": {
    "tags": []
   },
   "outputs": [],
   "source": [
    "stage_counts = df['Development_Stage'].value_counts().reset_index()\n",
    "stage_counts.columns = ['Stage', 'Count']\n",
    "\n",
    "# Create the pie chart\n",
    "fig = px.pie(stage_counts, names='Stage', values='Count', title='Stages of Implementation')"
   ]
  },
  {
   "cell_type": "code",
   "execution_count": 31,
   "id": "098a3d40-f27d-4424-bf41-4438be7626e3",
   "metadata": {
    "tags": []
   },
   "outputs": [
    {
     "data": {
      "application/vnd.plotly.v1+json": {
       "config": {
        "plotlyServerURL": "https://plot.ly"
       },
       "data": [
        {
         "domain": {
          "x": [
           0,
           1
          ],
          "y": [
           0,
           1
          ]
         },
         "hovertemplate": "Stage=%{label}<br>Count=%{value}<extra></extra>",
         "labels": [
          "Operation and Maintenance",
          "Development and Acquisition",
          "Initiation",
          "Implementation"
         ],
         "legendgroup": "",
         "name": "",
         "showlegend": true,
         "type": "pie",
         "values": [
          158,
          93,
          87,
          51
         ]
        }
       ],
       "layout": {
        "autosize": true,
        "legend": {
         "tracegroupgap": 0
        },
        "template": {
         "data": {
          "bar": [
           {
            "error_x": {
             "color": "#2a3f5f"
            },
            "error_y": {
             "color": "#2a3f5f"
            },
            "marker": {
             "line": {
              "color": "#E5ECF6",
              "width": 0.5
             },
             "pattern": {
              "fillmode": "overlay",
              "size": 10,
              "solidity": 0.2
             }
            },
            "type": "bar"
           }
          ],
          "barpolar": [
           {
            "marker": {
             "line": {
              "color": "#E5ECF6",
              "width": 0.5
             },
             "pattern": {
              "fillmode": "overlay",
              "size": 10,
              "solidity": 0.2
             }
            },
            "type": "barpolar"
           }
          ],
          "carpet": [
           {
            "aaxis": {
             "endlinecolor": "#2a3f5f",
             "gridcolor": "white",
             "linecolor": "white",
             "minorgridcolor": "white",
             "startlinecolor": "#2a3f5f"
            },
            "baxis": {
             "endlinecolor": "#2a3f5f",
             "gridcolor": "white",
             "linecolor": "white",
             "minorgridcolor": "white",
             "startlinecolor": "#2a3f5f"
            },
            "type": "carpet"
           }
          ],
          "choropleth": [
           {
            "colorbar": {
             "outlinewidth": 0,
             "ticks": ""
            },
            "type": "choropleth"
           }
          ],
          "contour": [
           {
            "colorbar": {
             "outlinewidth": 0,
             "ticks": ""
            },
            "colorscale": [
             [
              0,
              "#0d0887"
             ],
             [
              0.1111111111111111,
              "#46039f"
             ],
             [
              0.2222222222222222,
              "#7201a8"
             ],
             [
              0.3333333333333333,
              "#9c179e"
             ],
             [
              0.4444444444444444,
              "#bd3786"
             ],
             [
              0.5555555555555556,
              "#d8576b"
             ],
             [
              0.6666666666666666,
              "#ed7953"
             ],
             [
              0.7777777777777778,
              "#fb9f3a"
             ],
             [
              0.8888888888888888,
              "#fdca26"
             ],
             [
              1,
              "#f0f921"
             ]
            ],
            "type": "contour"
           }
          ],
          "contourcarpet": [
           {
            "colorbar": {
             "outlinewidth": 0,
             "ticks": ""
            },
            "type": "contourcarpet"
           }
          ],
          "heatmap": [
           {
            "colorbar": {
             "outlinewidth": 0,
             "ticks": ""
            },
            "colorscale": [
             [
              0,
              "#0d0887"
             ],
             [
              0.1111111111111111,
              "#46039f"
             ],
             [
              0.2222222222222222,
              "#7201a8"
             ],
             [
              0.3333333333333333,
              "#9c179e"
             ],
             [
              0.4444444444444444,
              "#bd3786"
             ],
             [
              0.5555555555555556,
              "#d8576b"
             ],
             [
              0.6666666666666666,
              "#ed7953"
             ],
             [
              0.7777777777777778,
              "#fb9f3a"
             ],
             [
              0.8888888888888888,
              "#fdca26"
             ],
             [
              1,
              "#f0f921"
             ]
            ],
            "type": "heatmap"
           }
          ],
          "heatmapgl": [
           {
            "colorbar": {
             "outlinewidth": 0,
             "ticks": ""
            },
            "colorscale": [
             [
              0,
              "#0d0887"
             ],
             [
              0.1111111111111111,
              "#46039f"
             ],
             [
              0.2222222222222222,
              "#7201a8"
             ],
             [
              0.3333333333333333,
              "#9c179e"
             ],
             [
              0.4444444444444444,
              "#bd3786"
             ],
             [
              0.5555555555555556,
              "#d8576b"
             ],
             [
              0.6666666666666666,
              "#ed7953"
             ],
             [
              0.7777777777777778,
              "#fb9f3a"
             ],
             [
              0.8888888888888888,
              "#fdca26"
             ],
             [
              1,
              "#f0f921"
             ]
            ],
            "type": "heatmapgl"
           }
          ],
          "histogram": [
           {
            "marker": {
             "pattern": {
              "fillmode": "overlay",
              "size": 10,
              "solidity": 0.2
             }
            },
            "type": "histogram"
           }
          ],
          "histogram2d": [
           {
            "colorbar": {
             "outlinewidth": 0,
             "ticks": ""
            },
            "colorscale": [
             [
              0,
              "#0d0887"
             ],
             [
              0.1111111111111111,
              "#46039f"
             ],
             [
              0.2222222222222222,
              "#7201a8"
             ],
             [
              0.3333333333333333,
              "#9c179e"
             ],
             [
              0.4444444444444444,
              "#bd3786"
             ],
             [
              0.5555555555555556,
              "#d8576b"
             ],
             [
              0.6666666666666666,
              "#ed7953"
             ],
             [
              0.7777777777777778,
              "#fb9f3a"
             ],
             [
              0.8888888888888888,
              "#fdca26"
             ],
             [
              1,
              "#f0f921"
             ]
            ],
            "type": "histogram2d"
           }
          ],
          "histogram2dcontour": [
           {
            "colorbar": {
             "outlinewidth": 0,
             "ticks": ""
            },
            "colorscale": [
             [
              0,
              "#0d0887"
             ],
             [
              0.1111111111111111,
              "#46039f"
             ],
             [
              0.2222222222222222,
              "#7201a8"
             ],
             [
              0.3333333333333333,
              "#9c179e"
             ],
             [
              0.4444444444444444,
              "#bd3786"
             ],
             [
              0.5555555555555556,
              "#d8576b"
             ],
             [
              0.6666666666666666,
              "#ed7953"
             ],
             [
              0.7777777777777778,
              "#fb9f3a"
             ],
             [
              0.8888888888888888,
              "#fdca26"
             ],
             [
              1,
              "#f0f921"
             ]
            ],
            "type": "histogram2dcontour"
           }
          ],
          "mesh3d": [
           {
            "colorbar": {
             "outlinewidth": 0,
             "ticks": ""
            },
            "type": "mesh3d"
           }
          ],
          "parcoords": [
           {
            "line": {
             "colorbar": {
              "outlinewidth": 0,
              "ticks": ""
             }
            },
            "type": "parcoords"
           }
          ],
          "pie": [
           {
            "automargin": true,
            "type": "pie"
           }
          ],
          "scatter": [
           {
            "fillpattern": {
             "fillmode": "overlay",
             "size": 10,
             "solidity": 0.2
            },
            "type": "scatter"
           }
          ],
          "scatter3d": [
           {
            "line": {
             "colorbar": {
              "outlinewidth": 0,
              "ticks": ""
             }
            },
            "marker": {
             "colorbar": {
              "outlinewidth": 0,
              "ticks": ""
             }
            },
            "type": "scatter3d"
           }
          ],
          "scattercarpet": [
           {
            "marker": {
             "colorbar": {
              "outlinewidth": 0,
              "ticks": ""
             }
            },
            "type": "scattercarpet"
           }
          ],
          "scattergeo": [
           {
            "marker": {
             "colorbar": {
              "outlinewidth": 0,
              "ticks": ""
             }
            },
            "type": "scattergeo"
           }
          ],
          "scattergl": [
           {
            "marker": {
             "colorbar": {
              "outlinewidth": 0,
              "ticks": ""
             }
            },
            "type": "scattergl"
           }
          ],
          "scattermapbox": [
           {
            "marker": {
             "colorbar": {
              "outlinewidth": 0,
              "ticks": ""
             }
            },
            "type": "scattermapbox"
           }
          ],
          "scatterpolar": [
           {
            "marker": {
             "colorbar": {
              "outlinewidth": 0,
              "ticks": ""
             }
            },
            "type": "scatterpolar"
           }
          ],
          "scatterpolargl": [
           {
            "marker": {
             "colorbar": {
              "outlinewidth": 0,
              "ticks": ""
             }
            },
            "type": "scatterpolargl"
           }
          ],
          "scatterternary": [
           {
            "marker": {
             "colorbar": {
              "outlinewidth": 0,
              "ticks": ""
             }
            },
            "type": "scatterternary"
           }
          ],
          "surface": [
           {
            "colorbar": {
             "outlinewidth": 0,
             "ticks": ""
            },
            "colorscale": [
             [
              0,
              "#0d0887"
             ],
             [
              0.1111111111111111,
              "#46039f"
             ],
             [
              0.2222222222222222,
              "#7201a8"
             ],
             [
              0.3333333333333333,
              "#9c179e"
             ],
             [
              0.4444444444444444,
              "#bd3786"
             ],
             [
              0.5555555555555556,
              "#d8576b"
             ],
             [
              0.6666666666666666,
              "#ed7953"
             ],
             [
              0.7777777777777778,
              "#fb9f3a"
             ],
             [
              0.8888888888888888,
              "#fdca26"
             ],
             [
              1,
              "#f0f921"
             ]
            ],
            "type": "surface"
           }
          ],
          "table": [
           {
            "cells": {
             "fill": {
              "color": "#EBF0F8"
             },
             "line": {
              "color": "white"
             }
            },
            "header": {
             "fill": {
              "color": "#C8D4E3"
             },
             "line": {
              "color": "white"
             }
            },
            "type": "table"
           }
          ]
         },
         "layout": {
          "annotationdefaults": {
           "arrowcolor": "#2a3f5f",
           "arrowhead": 0,
           "arrowwidth": 1
          },
          "autotypenumbers": "strict",
          "coloraxis": {
           "colorbar": {
            "outlinewidth": 0,
            "ticks": ""
           }
          },
          "colorscale": {
           "diverging": [
            [
             0,
             "#8e0152"
            ],
            [
             0.1,
             "#c51b7d"
            ],
            [
             0.2,
             "#de77ae"
            ],
            [
             0.3,
             "#f1b6da"
            ],
            [
             0.4,
             "#fde0ef"
            ],
            [
             0.5,
             "#f7f7f7"
            ],
            [
             0.6,
             "#e6f5d0"
            ],
            [
             0.7,
             "#b8e186"
            ],
            [
             0.8,
             "#7fbc41"
            ],
            [
             0.9,
             "#4d9221"
            ],
            [
             1,
             "#276419"
            ]
           ],
           "sequential": [
            [
             0,
             "#0d0887"
            ],
            [
             0.1111111111111111,
             "#46039f"
            ],
            [
             0.2222222222222222,
             "#7201a8"
            ],
            [
             0.3333333333333333,
             "#9c179e"
            ],
            [
             0.4444444444444444,
             "#bd3786"
            ],
            [
             0.5555555555555556,
             "#d8576b"
            ],
            [
             0.6666666666666666,
             "#ed7953"
            ],
            [
             0.7777777777777778,
             "#fb9f3a"
            ],
            [
             0.8888888888888888,
             "#fdca26"
            ],
            [
             1,
             "#f0f921"
            ]
           ],
           "sequentialminus": [
            [
             0,
             "#0d0887"
            ],
            [
             0.1111111111111111,
             "#46039f"
            ],
            [
             0.2222222222222222,
             "#7201a8"
            ],
            [
             0.3333333333333333,
             "#9c179e"
            ],
            [
             0.4444444444444444,
             "#bd3786"
            ],
            [
             0.5555555555555556,
             "#d8576b"
            ],
            [
             0.6666666666666666,
             "#ed7953"
            ],
            [
             0.7777777777777778,
             "#fb9f3a"
            ],
            [
             0.8888888888888888,
             "#fdca26"
            ],
            [
             1,
             "#f0f921"
            ]
           ]
          },
          "colorway": [
           "#636efa",
           "#EF553B",
           "#00cc96",
           "#ab63fa",
           "#FFA15A",
           "#19d3f3",
           "#FF6692",
           "#B6E880",
           "#FF97FF",
           "#FECB52"
          ],
          "font": {
           "color": "#2a3f5f"
          },
          "geo": {
           "bgcolor": "white",
           "lakecolor": "white",
           "landcolor": "#E5ECF6",
           "showlakes": true,
           "showland": true,
           "subunitcolor": "white"
          },
          "hoverlabel": {
           "align": "left"
          },
          "hovermode": "closest",
          "mapbox": {
           "style": "light"
          },
          "paper_bgcolor": "white",
          "plot_bgcolor": "#E5ECF6",
          "polar": {
           "angularaxis": {
            "gridcolor": "white",
            "linecolor": "white",
            "ticks": ""
           },
           "bgcolor": "#E5ECF6",
           "radialaxis": {
            "gridcolor": "white",
            "linecolor": "white",
            "ticks": ""
           }
          },
          "scene": {
           "xaxis": {
            "backgroundcolor": "#E5ECF6",
            "gridcolor": "white",
            "gridwidth": 2,
            "linecolor": "white",
            "showbackground": true,
            "ticks": "",
            "zerolinecolor": "white"
           },
           "yaxis": {
            "backgroundcolor": "#E5ECF6",
            "gridcolor": "white",
            "gridwidth": 2,
            "linecolor": "white",
            "showbackground": true,
            "ticks": "",
            "zerolinecolor": "white"
           },
           "zaxis": {
            "backgroundcolor": "#E5ECF6",
            "gridcolor": "white",
            "gridwidth": 2,
            "linecolor": "white",
            "showbackground": true,
            "ticks": "",
            "zerolinecolor": "white"
           }
          },
          "shapedefaults": {
           "line": {
            "color": "#2a3f5f"
           }
          },
          "ternary": {
           "aaxis": {
            "gridcolor": "white",
            "linecolor": "white",
            "ticks": ""
           },
           "baxis": {
            "gridcolor": "white",
            "linecolor": "white",
            "ticks": ""
           },
           "bgcolor": "#E5ECF6",
           "caxis": {
            "gridcolor": "white",
            "linecolor": "white",
            "ticks": ""
           }
          },
          "title": {
           "x": 0.05
          },
          "xaxis": {
           "automargin": true,
           "gridcolor": "white",
           "linecolor": "white",
           "ticks": "",
           "title": {
            "standoff": 15
           },
           "zerolinecolor": "white",
           "zerolinewidth": 2
          },
          "yaxis": {
           "automargin": true,
           "gridcolor": "white",
           "linecolor": "white",
           "ticks": "",
           "title": {
            "standoff": 15
           },
           "zerolinecolor": "white",
           "zerolinewidth": 2
          }
         }
        },
        "title": {
         "text": "Stages of Implementation"
        }
       }
      },
      "image/png": "[encoded data removed]",
      "text/html": [
       "<div>                            <div id=\"484851e3-d119-46b8-875b-eeb87603298d\" class=\"plotly-graph-div\" style=\"height:525px; width:100%;\"></div>            <script type=\"text/javascript\">                require([\"plotly\"], function(Plotly) {                    window.PLOTLYENV=window.PLOTLYENV || {};                                    if (document.getElementById(\"484851e3-d119-46b8-875b-eeb87603298d\")) {                    Plotly.newPlot(                        \"484851e3-d119-46b8-875b-eeb87603298d\",                        [{\"domain\":{\"x\":[0.0,1.0],\"y\":[0.0,1.0]},\"hovertemplate\":\"Stage=%{label}\\u003cbr\\u003eCount=%{value}\\u003cextra\\u003e\\u003c\\u002fextra\\u003e\",\"labels\":[\"Operation and Maintenance\",\"Development and Acquisition\",\"Initiation\",\"Implementation\"],\"legendgroup\":\"\",\"name\":\"\",\"showlegend\":true,\"values\":[158,93,87,51],\"type\":\"pie\"}],                        {\"template\":{\"data\":{\"histogram2dcontour\":[{\"type\":\"histogram2dcontour\",\"colorbar\":{\"outlinewidth\":0,\"ticks\":\"\"},\"colorscale\":[[0.0,\"#0d0887\"],[0.1111111111111111,\"#46039f\"],[0.2222222222222222,\"#7201a8\"],[0.3333333333333333,\"#9c179e\"],[0.4444444444444444,\"#bd3786\"],[0.5555555555555556,\"#d8576b\"],[0.6666666666666666,\"#ed7953\"],[0.7777777777777778,\"#fb9f3a\"],[0.8888888888888888,\"#fdca26\"],[1.0,\"#f0f921\"]]}],\"choropleth\":[{\"type\":\"choropleth\",\"colorbar\":{\"outlinewidth\":0,\"ticks\":\"\"}}],\"histogram2d\":[{\"type\":\"histogram2d\",\"colorbar\":{\"outlinewidth\":0,\"ticks\":\"\"},\"colorscale\":[[0.0,\"#0d0887\"],[0.1111111111111111,\"#46039f\"],[0.2222222222222222,\"#7201a8\"],[0.3333333333333333,\"#9c179e\"],[0.4444444444444444,\"#bd3786\"],[0.5555555555555556,\"#d8576b\"],[0.6666666666666666,\"#ed7953\"],[0.7777777777777778,\"#fb9f3a\"],[0.8888888888888888,\"#fdca26\"],[1.0,\"#f0f921\"]]}],\"heatmap\":[{\"type\":\"heatmap\",\"colorbar\":{\"outlinewidth\":0,\"ticks\":\"\"},\"colorscale\":[[0.0,\"#0d0887\"],[0.1111111111111111,\"#46039f\"],[0.2222222222222222,\"#7201a8\"],[0.3333333333333333,\"#9c179e\"],[0.4444444444444444,\"#bd3786\"],[0.5555555555555556,\"#d8576b\"],[0.6666666666666666,\"#ed7953\"],[0.7777777777777778,\"#fb9f3a\"],[0.8888888888888888,\"#fdca26\"],[1.0,\"#f0f921\"]]}],\"heatmapgl\":[{\"type\":\"heatmapgl\",\"colorbar\":{\"outlinewidth\":0,\"ticks\":\"\"},\"colorscale\":[[0.0,\"#0d0887\"],[0.1111111111111111,\"#46039f\"],[0.2222222222222222,\"#7201a8\"],[0.3333333333333333,\"#9c179e\"],[0.4444444444444444,\"#bd3786\"],[0.5555555555555556,\"#d8576b\"],[0.6666666666666666,\"#ed7953\"],[0.7777777777777778,\"#fb9f3a\"],[0.8888888888888888,\"#fdca26\"],[1.0,\"#f0f921\"]]}],\"contourcarpet\":[{\"type\":\"contourcarpet\",\"colorbar\":{\"outlinewidth\":0,\"ticks\":\"\"}}],\"contour\":[{\"type\":\"contour\",\"colorbar\":{\"outlinewidth\":0,\"ticks\":\"\"},\"colorscale\":[[0.0,\"#0d0887\"],[0.1111111111111111,\"#46039f\"],[0.2222222222222222,\"#7201a8\"],[0.3333333333333333,\"#9c179e\"],[0.4444444444444444,\"#bd3786\"],[0.5555555555555556,\"#d8576b\"],[0.6666666666666666,\"#ed7953\"],[0.7777777777777778,\"#fb9f3a\"],[0.8888888888888888,\"#fdca26\"],[1.0,\"#f0f921\"]]}],\"surface\":[{\"type\":\"surface\",\"colorbar\":{\"outlinewidth\":0,\"ticks\":\"\"},\"colorscale\":[[0.0,\"#0d0887\"],[0.1111111111111111,\"#46039f\"],[0.2222222222222222,\"#7201a8\"],[0.3333333333333333,\"#9c179e\"],[0.4444444444444444,\"#bd3786\"],[0.5555555555555556,\"#d8576b\"],[0.6666666666666666,\"#ed7953\"],[0.7777777777777778,\"#fb9f3a\"],[0.8888888888888888,\"#fdca26\"],[1.0,\"#f0f921\"]]}],\"mesh3d\":[{\"type\":\"mesh3d\",\"colorbar\":{\"outlinewidth\":0,\"ticks\":\"\"}}],\"scatter\":[{\"fillpattern\":{\"fillmode\":\"overlay\",\"size\":10,\"solidity\":0.2},\"type\":\"scatter\"}],\"parcoords\":[{\"type\":\"parcoords\",\"line\":{\"colorbar\":{\"outlinewidth\":0,\"ticks\":\"\"}}}],\"scatterpolargl\":[{\"type\":\"scatterpolargl\",\"marker\":{\"colorbar\":{\"outlinewidth\":0,\"ticks\":\"\"}}}],\"bar\":[{\"error_x\":{\"color\":\"#2a3f5f\"},\"error_y\":{\"color\":\"#2a3f5f\"},\"marker\":{\"line\":{\"color\":\"#E5ECF6\",\"width\":0.5},\"pattern\":{\"fillmode\":\"overlay\",\"size\":10,\"solidity\":0.2}},\"type\":\"bar\"}],\"scattergeo\":[{\"type\":\"scattergeo\",\"marker\":{\"colorbar\":{\"outlinewidth\":0,\"ticks\":\"\"}}}],\"scatterpolar\":[{\"type\":\"scatterpolar\",\"marker\":{\"colorbar\":{\"outlinewidth\":0,\"ticks\":\"\"}}}],\"histogram\":[{\"marker\":{\"pattern\":{\"fillmode\":\"overlay\",\"size\":10,\"solidity\":0.2}},\"type\":\"histogram\"}],\"scattergl\":[{\"type\":\"scattergl\",\"marker\":{\"colorbar\":{\"outlinewidth\":0,\"ticks\":\"\"}}}],\"scatter3d\":[{\"type\":\"scatter3d\",\"line\":{\"colorbar\":{\"outlinewidth\":0,\"ticks\":\"\"}},\"marker\":{\"colorbar\":{\"outlinewidth\":0,\"ticks\":\"\"}}}],\"scattermapbox\":[{\"type\":\"scattermapbox\",\"marker\":{\"colorbar\":{\"outlinewidth\":0,\"ticks\":\"\"}}}],\"scatterternary\":[{\"type\":\"scatterternary\",\"marker\":{\"colorbar\":{\"outlinewidth\":0,\"ticks\":\"\"}}}],\"scattercarpet\":[{\"type\":\"scattercarpet\",\"marker\":{\"colorbar\":{\"outlinewidth\":0,\"ticks\":\"\"}}}],\"carpet\":[{\"aaxis\":{\"endlinecolor\":\"#2a3f5f\",\"gridcolor\":\"white\",\"linecolor\":\"white\",\"minorgridcolor\":\"white\",\"startlinecolor\":\"#2a3f5f\"},\"baxis\":{\"endlinecolor\":\"#2a3f5f\",\"gridcolor\":\"white\",\"linecolor\":\"white\",\"minorgridcolor\":\"white\",\"startlinecolor\":\"#2a3f5f\"},\"type\":\"carpet\"}],\"table\":[{\"cells\":{\"fill\":{\"color\":\"#EBF0F8\"},\"line\":{\"color\":\"white\"}},\"header\":{\"fill\":{\"color\":\"#C8D4E3\"},\"line\":{\"color\":\"white\"}},\"type\":\"table\"}],\"barpolar\":[{\"marker\":{\"line\":{\"color\":\"#E5ECF6\",\"width\":0.5},\"pattern\":{\"fillmode\":\"overlay\",\"size\":10,\"solidity\":0.2}},\"type\":\"barpolar\"}],\"pie\":[{\"automargin\":true,\"type\":\"pie\"}]},\"layout\":{\"autotypenumbers\":\"strict\",\"colorway\":[\"#636efa\",\"#EF553B\",\"#00cc96\",\"#ab63fa\",\"#FFA15A\",\"#19d3f3\",\"#FF6692\",\"#B6E880\",\"#FF97FF\",\"#FECB52\"],\"font\":{\"color\":\"#2a3f5f\"},\"hovermode\":\"closest\",\"hoverlabel\":{\"align\":\"left\"},\"paper_bgcolor\":\"white\",\"plot_bgcolor\":\"#E5ECF6\",\"polar\":{\"bgcolor\":\"#E5ECF6\",\"angularaxis\":{\"gridcolor\":\"white\",\"linecolor\":\"white\",\"ticks\":\"\"},\"radialaxis\":{\"gridcolor\":\"white\",\"linecolor\":\"white\",\"ticks\":\"\"}},\"ternary\":{\"bgcolor\":\"#E5ECF6\",\"aaxis\":{\"gridcolor\":\"white\",\"linecolor\":\"white\",\"ticks\":\"\"},\"baxis\":{\"gridcolor\":\"white\",\"linecolor\":\"white\",\"ticks\":\"\"},\"caxis\":{\"gridcolor\":\"white\",\"linecolor\":\"white\",\"ticks\":\"\"}},\"coloraxis\":{\"colorbar\":{\"outlinewidth\":0,\"ticks\":\"\"}},\"colorscale\":{\"sequential\":[[0.0,\"#0d0887\"],[0.1111111111111111,\"#46039f\"],[0.2222222222222222,\"#7201a8\"],[0.3333333333333333,\"#9c179e\"],[0.4444444444444444,\"#bd3786\"],[0.5555555555555556,\"#d8576b\"],[0.6666666666666666,\"#ed7953\"],[0.7777777777777778,\"#fb9f3a\"],[0.8888888888888888,\"#fdca26\"],[1.0,\"#f0f921\"]],\"sequentialminus\":[[0.0,\"#0d0887\"],[0.1111111111111111,\"#46039f\"],[0.2222222222222222,\"#7201a8\"],[0.3333333333333333,\"#9c179e\"],[0.4444444444444444,\"#bd3786\"],[0.5555555555555556,\"#d8576b\"],[0.6666666666666666,\"#ed7953\"],[0.7777777777777778,\"#fb9f3a\"],[0.8888888888888888,\"#fdca26\"],[1.0,\"#f0f921\"]],\"diverging\":[[0,\"#8e0152\"],[0.1,\"#c51b7d\"],[0.2,\"#de77ae\"],[0.3,\"#f1b6da\"],[0.4,\"#fde0ef\"],[0.5,\"#f7f7f7\"],[0.6,\"#e6f5d0\"],[0.7,\"#b8e186\"],[0.8,\"#7fbc41\"],[0.9,\"#4d9221\"],[1,\"#276419\"]]},\"xaxis\":{\"gridcolor\":\"white\",\"linecolor\":\"white\",\"ticks\":\"\",\"title\":{\"standoff\":15},\"zerolinecolor\":\"white\",\"automargin\":true,\"zerolinewidth\":2},\"yaxis\":{\"gridcolor\":\"white\",\"linecolor\":\"white\",\"ticks\":\"\",\"title\":{\"standoff\":15},\"zerolinecolor\":\"white\",\"automargin\":true,\"zerolinewidth\":2},\"scene\":{\"xaxis\":{\"backgroundcolor\":\"#E5ECF6\",\"gridcolor\":\"white\",\"linecolor\":\"white\",\"showbackground\":true,\"ticks\":\"\",\"zerolinecolor\":\"white\",\"gridwidth\":2},\"yaxis\":{\"backgroundcolor\":\"#E5ECF6\",\"gridcolor\":\"white\",\"linecolor\":\"white\",\"showbackground\":true,\"ticks\":\"\",\"zerolinecolor\":\"white\",\"gridwidth\":2},\"zaxis\":{\"backgroundcolor\":\"#E5ECF6\",\"gridcolor\":\"white\",\"linecolor\":\"white\",\"showbackground\":true,\"ticks\":\"\",\"zerolinecolor\":\"white\",\"gridwidth\":2}},\"shapedefaults\":{\"line\":{\"color\":\"#2a3f5f\"}},\"annotationdefaults\":{\"arrowcolor\":\"#2a3f5f\",\"arrowhead\":0,\"arrowwidth\":1},\"geo\":{\"bgcolor\":\"white\",\"landcolor\":\"#E5ECF6\",\"subunitcolor\":\"white\",\"showland\":true,\"showlakes\":true,\"lakecolor\":\"white\"},\"title\":{\"x\":0.05},\"mapbox\":{\"style\":\"light\"}}},\"legend\":{\"tracegroupgap\":0},\"title\":{\"text\":\"Stages of Implementation\"}},                        {\"responsive\": true}                    ).then(function(){\n",
       "                            \n",
       "var gd = document.getElementById('484851e3-d119-46b8-875b-eeb87603298d');\n",
       "var x = new MutationObserver(function (mutations, observer) {{\n",
       "        var display = window.getComputedStyle(gd).display;\n",
       "        if (!display || display === 'none') {{\n",
       "            console.log([gd, 'removed!']);\n",
       "            Plotly.purge(gd);\n",
       "            observer.disconnect();\n",
       "        }}\n",
       "}});\n",
       "\n",
       "// Listen for the removal of the full notebook cells\n",
       "var notebookContainer = gd.closest('#notebook-container');\n",
       "if (notebookContainer) {{\n",
       "    x.observe(notebookContainer, {childList: true});\n",
       "}}\n",
       "\n",
       "// Listen for the clearing of the current output cell\n",
       "var outputEl = gd.closest('.output');\n",
       "if (outputEl) {{\n",
       "    x.observe(outputEl, {childList: true});\n",
       "}}\n",
       "\n",
       "                        })                };                });            </script>        </div>"
      ]
     },
     "metadata": {},
     "output_type": "display_data"
    }
   ],
   "source": [
    "fig "
   ]
  },
  {
   "cell_type": "code",
   "execution_count": 12,
   "id": "b514beb0-2714-429f-bdd9-b505c7b81db3",
   "metadata": {
    "tags": []
   },
   "outputs": [],
   "source": [
    "df.to_csv(\"federalai_embed.csv\")"
   ]
  },
  {
   "cell_type": "code",
   "execution_count": 13,
   "id": "19a34bc8-6203-4942-8c73-81e306b2a0ea",
   "metadata": {},
   "outputs": [
    {
     "data": {
      "text/html": [
       "<div>\n",
       "<style scoped>\n",
       "    .dataframe tbody tr th:only-of-type {\n",
       "        vertical-align: middle;\n",
       "    }\n",
       "\n",
       "    .dataframe tbody tr th {\n",
       "        vertical-align: top;\n",
       "    }\n",
       "\n",
       "    .dataframe thead th {\n",
       "        text-align: right;\n",
       "    }\n",
       "</style>\n",
       "<table border=\"1\" class=\"dataframe\">\n",
       "  <thead>\n",
       "    <tr style=\"text-align: right;\">\n",
       "      <th></th>\n",
       "      <th>Use_Case_ID</th>\n",
       "      <th>Department_Code</th>\n",
       "      <th>Agency</th>\n",
       "      <th>Office</th>\n",
       "      <th>Title</th>\n",
       "      <th>Summary</th>\n",
       "      <th>Development_Stage</th>\n",
       "      <th>Techniques</th>\n",
       "      <th>Source_Code</th>\n",
       "      <th>Department</th>\n",
       "      <th>embedding</th>\n",
       "    </tr>\n",
       "  </thead>\n",
       "  <tbody>\n",
       "    <tr>\n",
       "      <th>0</th>\n",
       "      <td>DHS-0000-2023</td>\n",
       "      <td>DHS</td>\n",
       "      <td>Customs and Border Protection</td>\n",
       "      <td>NaN</td>\n",
       "      <td>AI Curated Synthetic Data</td>\n",
       "      <td>AI Curated Synthetic Data creates synthetic da...</td>\n",
       "      <td>Initiation</td>\n",
       "      <td>Synthetic Image Generation</td>\n",
       "      <td>NaN</td>\n",
       "      <td>Department of Homeland Security</td>\n",
       "      <td>[0.004243736620992422, -0.0064218793995678425,...</td>\n",
       "    </tr>\n",
       "    <tr>\n",
       "      <th>1</th>\n",
       "      <td>DHS-0001-2023</td>\n",
       "      <td>DHS</td>\n",
       "      <td>Customs and Border Protection</td>\n",
       "      <td>NaN</td>\n",
       "      <td>AI for Autonomous Situational Awareness</td>\n",
       "      <td>The AI for autonomous situational awareness sy...</td>\n",
       "      <td>Development and Acquisition</td>\n",
       "      <td>Machine Vision</td>\n",
       "      <td>NaN</td>\n",
       "      <td>Department of Homeland Security</td>\n",
       "      <td>[-0.007089984603226185, -0.010863486677408218,...</td>\n",
       "    </tr>\n",
       "    <tr>\n",
       "      <th>2</th>\n",
       "      <td>DHS-0002-2023</td>\n",
       "      <td>DHS</td>\n",
       "      <td>Customs and Border Protection</td>\n",
       "      <td>NaN</td>\n",
       "      <td>Automated Item of Interest Detection - ICAD</td>\n",
       "      <td>The software analyzes photographs that are tak...</td>\n",
       "      <td>Operation and Maintenance</td>\n",
       "      <td>Machine Learning</td>\n",
       "      <td>NaN</td>\n",
       "      <td>Department of Homeland Security</td>\n",
       "      <td>[0.0034998550545424223, 0.02026582695543766, 0...</td>\n",
       "    </tr>\n",
       "    <tr>\n",
       "      <th>3</th>\n",
       "      <td>DHS-0003-2023</td>\n",
       "      <td>DHS</td>\n",
       "      <td>Customs and Border Protection</td>\n",
       "      <td>NaN</td>\n",
       "      <td>Autonomous Aerostat</td>\n",
       "      <td>Aerostat capability that uses three tethers in...</td>\n",
       "      <td>Development and Acquisition</td>\n",
       "      <td>Automation &amp; Robotics</td>\n",
       "      <td>NaN</td>\n",
       "      <td>Department of Homeland Security</td>\n",
       "      <td>[-0.014339393936097622, -0.00524669885635376, ...</td>\n",
       "    </tr>\n",
       "    <tr>\n",
       "      <th>4</th>\n",
       "      <td>DHS-0004-2023</td>\n",
       "      <td>DHS</td>\n",
       "      <td>Customs and Border Protection</td>\n",
       "      <td>NaN</td>\n",
       "      <td>Autonomous Maritime Awareness</td>\n",
       "      <td>The Autonomous Maritime Awareness system combi...</td>\n",
       "      <td>Development and Acquisition</td>\n",
       "      <td>Machine Learning Automation &amp; Robotics</td>\n",
       "      <td>NaN</td>\n",
       "      <td>Department of Homeland Security</td>\n",
       "      <td>[-0.004845671821385622, 0.02103746496140957, 0...</td>\n",
       "    </tr>\n",
       "    <tr>\n",
       "      <th>...</th>\n",
       "      <td>...</td>\n",
       "      <td>...</td>\n",
       "      <td>...</td>\n",
       "      <td>...</td>\n",
       "      <td>...</td>\n",
       "      <td>...</td>\n",
       "      <td>...</td>\n",
       "      <td>...</td>\n",
       "      <td>...</td>\n",
       "      <td>...</td>\n",
       "      <td>...</td>\n",
       "    </tr>\n",
       "    <tr>\n",
       "      <th>705</th>\n",
       "      <td>VA-0035-2023</td>\n",
       "      <td>VA</td>\n",
       "      <td>NaN</td>\n",
       "      <td>NaN</td>\n",
       "      <td>Extraction of family medical history from pati...</td>\n",
       "      <td>This pilot project uses TIU documentation on A...</td>\n",
       "      <td>NaN</td>\n",
       "      <td>NaN</td>\n",
       "      <td>NaN</td>\n",
       "      <td>Department of Veterans Affairs</td>\n",
       "      <td>[-0.02895614132285118, 0.010245917364954948, 0...</td>\n",
       "    </tr>\n",
       "    <tr>\n",
       "      <th>706</th>\n",
       "      <td>VA-0036-2023</td>\n",
       "      <td>VA</td>\n",
       "      <td>NaN</td>\n",
       "      <td>NaN</td>\n",
       "      <td>VA /IRB approved research study for finding co...</td>\n",
       "      <td>This IRB approved research study uses  a rando...</td>\n",
       "      <td>NaN</td>\n",
       "      <td>NaN</td>\n",
       "      <td>NaN</td>\n",
       "      <td>Department of Veterans Affairs</td>\n",
       "      <td>[0.011471228674054146, -0.014470615424215794, ...</td>\n",
       "    </tr>\n",
       "    <tr>\n",
       "      <th>707</th>\n",
       "      <td>VA-0037-2023</td>\n",
       "      <td>VA</td>\n",
       "      <td>NaN</td>\n",
       "      <td>NaN</td>\n",
       "      <td>Interpretation/triage of eye images</td>\n",
       "      <td>Artificial intelligence supports triage of eye...</td>\n",
       "      <td>NaN</td>\n",
       "      <td>NaN</td>\n",
       "      <td>NaN</td>\n",
       "      <td>Department of Veterans Affairs</td>\n",
       "      <td>[-0.001816455158405006, -0.004927289206534624,...</td>\n",
       "    </tr>\n",
       "    <tr>\n",
       "      <th>708</th>\n",
       "      <td>VA-0038-2023</td>\n",
       "      <td>VA</td>\n",
       "      <td>NaN</td>\n",
       "      <td>NaN</td>\n",
       "      <td>Screening for esophageal adenocarcinoma</td>\n",
       "      <td>National VHA administrative data is used to ad...</td>\n",
       "      <td>NaN</td>\n",
       "      <td>NaN</td>\n",
       "      <td>NaN</td>\n",
       "      <td>Department of Veterans Affairs</td>\n",
       "      <td>[0.0013510119169950485, -0.004400016739964485,...</td>\n",
       "    </tr>\n",
       "    <tr>\n",
       "      <th>709</th>\n",
       "      <td>VA-0039-2023</td>\n",
       "      <td>VA</td>\n",
       "      <td>NaN</td>\n",
       "      <td>NaN</td>\n",
       "      <td>Social determinants of health extractor</td>\n",
       "      <td>AI is used with clinical notes to identify soc...</td>\n",
       "      <td>NaN</td>\n",
       "      <td>NaN</td>\n",
       "      <td>NaN</td>\n",
       "      <td>Department of Veterans Affairs</td>\n",
       "      <td>[-0.018572397530078888, -0.018499895930290222,...</td>\n",
       "    </tr>\n",
       "  </tbody>\n",
       "</table>\n",
       "<p>710 rows × 11 columns</p>\n",
       "</div>"
      ],
      "text/plain": [
       "       Use_Case_ID Department_Code                         Agency Office  \\\n",
       "0    DHS-0000-2023             DHS  Customs and Border Protection    NaN   \n",
       "1    DHS-0001-2023             DHS  Customs and Border Protection    NaN   \n",
       "2    DHS-0002-2023             DHS  Customs and Border Protection    NaN   \n",
       "3    DHS-0003-2023             DHS  Customs and Border Protection    NaN   \n",
       "4    DHS-0004-2023             DHS  Customs and Border Protection    NaN   \n",
       "..             ...             ...                            ...    ...   \n",
       "705   VA-0035-2023              VA                            NaN    NaN   \n",
       "706   VA-0036-2023              VA                            NaN    NaN   \n",
       "707   VA-0037-2023              VA                            NaN    NaN   \n",
       "708   VA-0038-2023              VA                            NaN    NaN   \n",
       "709   VA-0039-2023              VA                            NaN    NaN   \n",
       "\n",
       "                                                 Title  \\\n",
       "0                            AI Curated Synthetic Data   \n",
       "1              AI for Autonomous Situational Awareness   \n",
       "2          Automated Item of Interest Detection - ICAD   \n",
       "3                                  Autonomous Aerostat   \n",
       "4                        Autonomous Maritime Awareness   \n",
       "..                                                 ...   \n",
       "705  Extraction of family medical history from pati...   \n",
       "706  VA /IRB approved research study for finding co...   \n",
       "707                Interpretation/triage of eye images   \n",
       "708            Screening for esophageal adenocarcinoma   \n",
       "709            Social determinants of health extractor   \n",
       "\n",
       "                                               Summary  \\\n",
       "0    AI Curated Synthetic Data creates synthetic da...   \n",
       "1    The AI for autonomous situational awareness sy...   \n",
       "2    The software analyzes photographs that are tak...   \n",
       "3    Aerostat capability that uses three tethers in...   \n",
       "4    The Autonomous Maritime Awareness system combi...   \n",
       "..                                                 ...   \n",
       "705  This pilot project uses TIU documentation on A...   \n",
       "706  This IRB approved research study uses  a rando...   \n",
       "707  Artificial intelligence supports triage of eye...   \n",
       "708  National VHA administrative data is used to ad...   \n",
       "709  AI is used with clinical notes to identify soc...   \n",
       "\n",
       "               Development_Stage                              Techniques  \\\n",
       "0                     Initiation              Synthetic Image Generation   \n",
       "1    Development and Acquisition                          Machine Vision   \n",
       "2      Operation and Maintenance                        Machine Learning   \n",
       "3    Development and Acquisition                   Automation & Robotics   \n",
       "4    Development and Acquisition  Machine Learning Automation & Robotics   \n",
       "..                           ...                                     ...   \n",
       "705                          NaN                                     NaN   \n",
       "706                          NaN                                     NaN   \n",
       "707                          NaN                                     NaN   \n",
       "708                          NaN                                     NaN   \n",
       "709                          NaN                                     NaN   \n",
       "\n",
       "    Source_Code                       Department  \\\n",
       "0           NaN  Department of Homeland Security   \n",
       "1           NaN  Department of Homeland Security   \n",
       "2           NaN  Department of Homeland Security   \n",
       "3           NaN  Department of Homeland Security   \n",
       "4           NaN  Department of Homeland Security   \n",
       "..          ...                              ...   \n",
       "705         NaN   Department of Veterans Affairs   \n",
       "706         NaN   Department of Veterans Affairs   \n",
       "707         NaN   Department of Veterans Affairs   \n",
       "708         NaN   Department of Veterans Affairs   \n",
       "709         NaN   Department of Veterans Affairs   \n",
       "\n",
       "                                             embedding  \n",
       "0    [0.004243736620992422, -0.0064218793995678425,...  \n",
       "1    [-0.007089984603226185, -0.010863486677408218,...  \n",
       "2    [0.0034998550545424223, 0.02026582695543766, 0...  \n",
       "3    [-0.014339393936097622, -0.00524669885635376, ...  \n",
       "4    [-0.004845671821385622, 0.02103746496140957, 0...  \n",
       "..                                                 ...  \n",
       "705  [-0.02895614132285118, 0.010245917364954948, 0...  \n",
       "706  [0.011471228674054146, -0.014470615424215794, ...  \n",
       "707  [-0.001816455158405006, -0.004927289206534624,...  \n",
       "708  [0.0013510119169950485, -0.004400016739964485,...  \n",
       "709  [-0.018572397530078888, -0.018499895930290222,...  \n",
       "\n",
       "[710 rows x 11 columns]"
      ]
     },
     "execution_count": 13,
     "metadata": {},
     "output_type": "execute_result"
    }
   ],
   "source": [
    "df"
   ]
  },
  {
   "cell_type": "code",
   "execution_count": null,
   "id": "1a06e2cc-c2cb-4111-9eee-3811d6e658fc",
   "metadata": {},
   "outputs": [],
   "source": [
    "df"
   ]
  },
  {
   "cell_type": "code",
   "execution_count": 33,
   "id": "0cb1178e-6e5d-4c8b-9d20-788420cb1f7f",
   "metadata": {
    "tags": []
   },
   "outputs": [
    {
     "ename": "NameError",
     "evalue": "name 'StandardScaler' is not defined",
     "output_type": "error",
     "traceback": [
      "\u001b[0;31m---------------------------------------------------------------------------\u001b[0m",
      "\u001b[0;31mNameError\u001b[0m                                 Traceback (most recent call last)",
      "Cell \u001b[0;32mIn[33], line 2\u001b[0m\n\u001b[1;32m      1\u001b[0m embeddings_matrix \u001b[38;5;241m=\u001b[39m np\u001b[38;5;241m.\u001b[39mvstack(df[\u001b[38;5;124m'\u001b[39m\u001b[38;5;124membedding\u001b[39m\u001b[38;5;124m'\u001b[39m])\n\u001b[0;32m----> 2\u001b[0m scaler \u001b[38;5;241m=\u001b[39m \u001b[43mStandardScaler\u001b[49m()\n\u001b[1;32m      3\u001b[0m scaled_embeddings \u001b[38;5;241m=\u001b[39m scaler\u001b[38;5;241m.\u001b[39mfit_transform(embeddings_matrix)\n\u001b[1;32m      4\u001b[0m embeddings \u001b[38;5;241m=\u001b[39m df[\u001b[38;5;124m'\u001b[39m\u001b[38;5;124membedding\u001b[39m\u001b[38;5;124m'\u001b[39m]\u001b[38;5;241m.\u001b[39mtolist()\n",
      "\u001b[0;31mNameError\u001b[0m: name 'StandardScaler' is not defined"
     ]
    }
   ],
   "source": [
    "embeddings_matrix = np.vstack(df['embedding'])\n",
    "scaler = StandardScaler()\n",
    "scaled_embeddings = scaler.fit_transform(embeddings_matrix)\n",
    "embeddings = df['embedding'].tolist()\n",
    "if isinstance(embeddings[0], str):\n",
    "    embeddings = [ast.literal_eval(e) for e in embeddings]"
   ]
  }
 ],
 "metadata": {
  "kernelspec": {
   "display_name": "Python 3 (ipykernel)",
   "language": "python",
   "name": "python3"
  },
  "language_info": {
   "codemirror_mode": {
    "name": "ipython",
    "version": 3
   },
   "file_extension": ".py",
   "mimetype": "text/x-python",
   "name": "python",
   "nbconvert_exporter": "python",
   "pygments_lexer": "ipython3",
   "version": "3.9.18"
  }
 },
 "nbformat": 4,
 "nbformat_minor": 5
}
